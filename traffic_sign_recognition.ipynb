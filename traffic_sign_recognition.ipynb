{
 "cells": [
  {
   "cell_type": "markdown",
   "metadata": {},
   "source": [
    "## Import libraries"
   ]
  },
  {
   "cell_type": "code",
   "execution_count": 3,
   "metadata": {},
   "outputs": [
    {
     "name": "stdout",
     "output_type": "stream",
     "text": [
      "WARNING:tensorflow:From C:\\Users\\DELL\\AppData\\Roaming\\Python\\Python311\\site-packages\\keras\\src\\losses.py:2976: The name tf.losses.sparse_softmax_cross_entropy is deprecated. Please use tf.compat.v1.losses.sparse_softmax_cross_entropy instead.\n",
      "\n"
     ]
    }
   ],
   "source": [
    "import numpy as np \n",
    "import pandas as pd \n",
    "import matplotlib.pyplot as plt\n",
    "import tensorflow as tf\n",
    "from PIL import Image\n",
    "import os\n",
    "from sklearn.model_selection import train_test_split\n",
    "from keras.utils import to_categorical\n",
    "from keras.models import Sequential, Model\n",
    "from keras.layers import Conv2D, MaxPool2D, Dense, Flatten, Dropout, GlobalAveragePooling2D\n",
    "\n",
    "from keras.preprocessing.image import load_img\n",
    "from keras.preprocessing.image import img_to_array\n",
    "from tensorflow.keras.applications import ResNet50, VGG16\n",
    "from sklearn.metrics import accuracy_score, precision_score, recall_score, f1_score, confusion_matrix\n"
   ]
  },
  {
   "cell_type": "code",
   "execution_count": 4,
   "metadata": {},
   "outputs": [],
   "source": [
    "# Classes of trafic signs\n",
    "classes = { 0:'Speed limit (15km/h)',\n",
    "            1:'Speed limit (30km/h)', \n",
    "            2:'Speed limit (50km/h)', \n",
    "            3:'Speed limit (60km/h)', \n",
    "            4:'Speed limit (70km/h)', \n",
    "            5:'Speed limit (80km/h)', \n",
    "            6:'No entry', \n",
    "            7:'No Free Left', \n",
    "            8:'No Free Right', \n",
    "            9: 'No Free U turn',\n",
    "            10:'Horn Prohibited',\n",
    "            11:'Free left', \n",
    "            12:'Free right', \n",
    "            13:'Free U turn', \n",
    "            14:'General Caution',\n",
    "            15:'Zibra Crossing', \n",
    "            16:'School zone', \n",
    "            17:'Dangerous curve right', \n",
    "            18:'Dangerous curve left',\n",
    "            19:'Right Turn ahead',\n",
    "            20:'Left Turn ahead', \n",
    "            }"
   ]
  },
  {
   "cell_type": "code",
   "execution_count": 34,
   "metadata": {},
   "outputs": [
    {
     "data": {
      "text/plain": [
       "'D:\\\\ML_Lab\\\\Project\\\\train'"
      ]
     },
     "execution_count": 34,
     "metadata": {},
     "output_type": "execute_result"
    }
   ],
   "source": [
    "os.chdir('D:/ML_Lab/Project/train')\n",
    "classes = 21 #21 traffic signs\n",
    "cur_path = os.getcwd()\n",
    "cur_path"
   ]
  },
  {
   "cell_type": "markdown",
   "metadata": {},
   "source": [
    "## Preprocess the images"
   ]
  },
  {
   "cell_type": "code",
   "execution_count": 35,
   "metadata": {},
   "outputs": [],
   "source": [
    "def load_images_to_data(image_label, image_directory, features_data, label_data):\n",
    "    list_of_files = os.listdir(image_directory)\n",
    "    for file in list_of_files:\n",
    "        full_path = image_directory\n",
    "        image_file_name = os.path.join(full_path, file)\n",
    "        if \".png\" in image_file_name:\n",
    "            img = Image.open(image_file_name)\n",
    "            img = img.resize((32,32))\n",
    "            im2arr = img_to_array(img)\n",
    "            im2arr = im2arr[:,:,0]\n",
    "            im2arr = im2arr.reshape(1,32,32)\n",
    "            features_data.append(im2arr) \n",
    "            label_data.append(image_label)\n",
    "    return features_data, label_data"
   ]
  },
  {
   "cell_type": "code",
   "execution_count": 36,
   "metadata": {},
   "outputs": [],
   "source": [
    "data = []\n",
    "label = []\n",
    "for path in os.listdir(cur_path):\n",
    "    full_path = os.path.join(cur_path, path)\n",
    "    data, label = load_images_to_data(\n",
    "        path, full_path, data, label)"
   ]
  },
  {
   "cell_type": "markdown",
   "metadata": {},
   "source": [
    "## Converting lists into numpy arrays"
   ]
  },
  {
   "cell_type": "code",
   "execution_count": 37,
   "metadata": {},
   "outputs": [],
   "source": [
    "labels = np.array(label)\n",
    "data = np.array(data )"
   ]
  },
  {
   "cell_type": "markdown",
   "metadata": {},
   "source": [
    "## Store data for future use"
   ]
  },
  {
   "cell_type": "code",
   "execution_count": 38,
   "metadata": {},
   "outputs": [
    {
     "data": {
      "text/plain": [
       "'D:\\\\ML_Lab\\\\Project'"
      ]
     },
     "execution_count": 38,
     "metadata": {},
     "output_type": "execute_result"
    }
   ],
   "source": [
    "os.chdir('D:/ML_Lab/Project/')\n",
    "cur_path = os.getcwd()\n",
    "np.save(cur_path + '\\\\training\\\\data.npy',data)\n",
    "np.save(cur_path + '\\\\training\\\\target.npy',labels)\n",
    "cur_path"
   ]
  },
  {
   "cell_type": "code",
   "execution_count": 39,
   "metadata": {},
   "outputs": [],
   "source": [
    "os.chdir('D:/ML_Lab/Project')\n",
    "cur_path = os.getcwd()"
   ]
  },
  {
   "cell_type": "markdown",
   "metadata": {},
   "source": [
    "## Load data & Labels"
   ]
  },
  {
   "cell_type": "code",
   "execution_count": 40,
   "metadata": {},
   "outputs": [],
   "source": [
    "data=np.load(cur_path +'\\\\training\\\\data.npy')\n",
    "labels=np.load(cur_path + '\\\\training\\\\target.npy')"
   ]
  },
  {
   "cell_type": "code",
   "execution_count": 41,
   "metadata": {},
   "outputs": [
    {
     "name": "stdout",
     "output_type": "stream",
     "text": [
      "D:\\ML_Lab\\Project\\training\\target.npy\n"
     ]
    }
   ],
   "source": [
    "print(cur_path + '\\\\training\\\\target.npy')"
   ]
  },
  {
   "cell_type": "code",
   "execution_count": 9,
   "metadata": {},
   "outputs": [
    {
     "name": "stdout",
     "output_type": "stream",
     "text": [
      "(32356, 1, 32, 32) (32356,)\n"
     ]
    }
   ],
   "source": [
    "print(data.shape, labels.shape)"
   ]
  },
  {
   "cell_type": "code",
   "execution_count": 42,
   "metadata": {},
   "outputs": [],
   "source": [
    "X_train, X_test, y_train, y_test = train_test_split(data, labels, test_size=0.2, random_state=0)"
   ]
  },
  {
   "cell_type": "code",
   "execution_count": 11,
   "metadata": {},
   "outputs": [
    {
     "name": "stdout",
     "output_type": "stream",
     "text": [
      "(25884, 1, 32, 32) (6472, 1, 32, 32) (25884,) (6472,)\n"
     ]
    }
   ],
   "source": [
    "print(X_train.shape, X_test.shape, y_train.shape, y_test.shape)"
   ]
  },
  {
   "cell_type": "markdown",
   "metadata": {},
   "source": [
    "## Convert labels to onehot encoding"
   ]
  },
  {
   "cell_type": "code",
   "execution_count": 43,
   "metadata": {},
   "outputs": [],
   "source": [
    "y_train = to_categorical(y_train, 21)\n",
    "y_test = to_categorical(y_test, 21)"
   ]
  },
  {
   "cell_type": "markdown",
   "metadata": {},
   "source": [
    "# Build the Models"
   ]
  },
  {
   "cell_type": "code",
   "execution_count": 44,
   "metadata": {},
   "outputs": [],
   "source": [
    "# Using 10 epochs to train each model\n",
    "epochs = 200"
   ]
  },
  {
   "cell_type": "markdown",
   "metadata": {},
   "source": [
    "### Simple CNN Model"
   ]
  },
  {
   "cell_type": "code",
   "execution_count": 45,
   "metadata": {},
   "outputs": [],
   "source": [
    "model1 = Sequential()\n",
    "model1.add(Conv2D(32, (3, 3), activation='relu', input_shape=X_train.shape[1:], padding='same'))\n",
    "model1.add(MaxPool2D((2, 2), padding='same'))\n",
    "model1.add(Dropout(rate=0.25))\n",
    "model1.add(Conv2D(64, (3, 3), activation='relu', padding='same'))\n",
    "model1.add(MaxPool2D((2, 2), padding='same'))\n",
    "model1.add(Conv2D(128, (3, 3), activation='relu', padding='same'))\n",
    "model1.add(MaxPool2D((2, 2), padding='same'))\n",
    "model1.add(Flatten())\n",
    "model1.add(Dense(128, activation='relu'))\n",
    "model1.add(Dropout(rate=0.5))\n",
    "model1.add(Dense(21, activation='softmax'))"
   ]
  },
  {
   "cell_type": "code",
   "execution_count": 46,
   "metadata": {},
   "outputs": [
    {
     "name": "stdout",
     "output_type": "stream",
     "text": [
      "Epoch 1/200\n",
      "678/678 [==============================] - 11s 13ms/step - loss: 1.5140 - accuracy: 0.5653 - val_loss: 0.5639 - val_accuracy: 0.8351\n",
      "Epoch 2/200\n",
      "678/678 [==============================] - 8s 12ms/step - loss: 0.6067 - accuracy: 0.8096 - val_loss: 0.1739 - val_accuracy: 0.9552\n",
      "Epoch 3/200\n",
      "678/678 [==============================] - 9s 13ms/step - loss: 0.3759 - accuracy: 0.8850 - val_loss: 0.1371 - val_accuracy: 0.9686\n",
      "Epoch 4/200\n",
      "678/678 [==============================] - 9s 13ms/step - loss: 0.2790 - accuracy: 0.9158 - val_loss: 0.0696 - val_accuracy: 0.9827\n",
      "Epoch 5/200\n",
      "678/678 [==============================] - 9s 13ms/step - loss: 0.2400 - accuracy: 0.9280 - val_loss: 0.1024 - val_accuracy: 0.9677\n",
      "Epoch 6/200\n",
      "678/678 [==============================] - 9s 13ms/step - loss: 0.2207 - accuracy: 0.9380 - val_loss: 0.0584 - val_accuracy: 0.9858\n",
      "Epoch 7/200\n",
      "678/678 [==============================] - 9s 13ms/step - loss: 0.1975 - accuracy: 0.9427 - val_loss: 0.0436 - val_accuracy: 0.9886\n",
      "Epoch 8/200\n",
      "678/678 [==============================] - 9s 13ms/step - loss: 0.1894 - accuracy: 0.9478 - val_loss: 0.0475 - val_accuracy: 0.9880\n",
      "Epoch 9/200\n",
      "678/678 [==============================] - 9s 13ms/step - loss: 0.1863 - accuracy: 0.9476 - val_loss: 0.0434 - val_accuracy: 0.9887\n",
      "Epoch 10/200\n",
      "678/678 [==============================] - 8s 12ms/step - loss: 0.1890 - accuracy: 0.9481 - val_loss: 0.0302 - val_accuracy: 0.9902\n",
      "Epoch 11/200\n",
      "678/678 [==============================] - 8s 12ms/step - loss: 0.1674 - accuracy: 0.9537 - val_loss: 0.0361 - val_accuracy: 0.9917\n",
      "Epoch 12/200\n",
      "678/678 [==============================] - 8s 12ms/step - loss: 0.1599 - accuracy: 0.9577 - val_loss: 0.0316 - val_accuracy: 0.9917\n",
      "Epoch 13/200\n",
      "678/678 [==============================] - 8s 12ms/step - loss: 0.1434 - accuracy: 0.9614 - val_loss: 0.0278 - val_accuracy: 0.9915\n",
      "Epoch 14/200\n",
      "678/678 [==============================] - 9s 13ms/step - loss: 0.1628 - accuracy: 0.9597 - val_loss: 0.0319 - val_accuracy: 0.9924\n",
      "Epoch 15/200\n",
      "678/678 [==============================] - 8s 12ms/step - loss: 0.1491 - accuracy: 0.9614 - val_loss: 0.0214 - val_accuracy: 0.9937\n",
      "Epoch 16/200\n",
      "678/678 [==============================] - 9s 13ms/step - loss: 0.1481 - accuracy: 0.9626 - val_loss: 0.0225 - val_accuracy: 0.9932\n",
      "Epoch 17/200\n",
      "678/678 [==============================] - 9s 13ms/step - loss: 0.1643 - accuracy: 0.9574 - val_loss: 0.0375 - val_accuracy: 0.9915\n",
      "Epoch 18/200\n",
      "678/678 [==============================] - 9s 13ms/step - loss: 0.1491 - accuracy: 0.9610 - val_loss: 0.0255 - val_accuracy: 0.9917\n",
      "Epoch 19/200\n",
      "678/678 [==============================] - 9s 14ms/step - loss: 0.1331 - accuracy: 0.9656 - val_loss: 0.0245 - val_accuracy: 0.9921\n",
      "Epoch 20/200\n",
      "678/678 [==============================] - 9s 14ms/step - loss: 0.1579 - accuracy: 0.9614 - val_loss: 0.0239 - val_accuracy: 0.9919\n",
      "Epoch 21/200\n",
      "678/678 [==============================] - 9s 13ms/step - loss: 0.1345 - accuracy: 0.9656 - val_loss: 0.0242 - val_accuracy: 0.9928\n",
      "Epoch 22/200\n",
      "678/678 [==============================] - 10s 14ms/step - loss: 0.1313 - accuracy: 0.9679 - val_loss: 0.0360 - val_accuracy: 0.9900\n",
      "Epoch 23/200\n",
      "678/678 [==============================] - 10s 15ms/step - loss: 0.1587 - accuracy: 0.9600 - val_loss: 0.0279 - val_accuracy: 0.9915\n",
      "Epoch 24/200\n",
      "678/678 [==============================] - 9s 14ms/step - loss: 0.1563 - accuracy: 0.9640 - val_loss: 0.0258 - val_accuracy: 0.9919\n",
      "Epoch 25/200\n",
      "678/678 [==============================] - 9s 14ms/step - loss: 0.1057 - accuracy: 0.9739 - val_loss: 0.0174 - val_accuracy: 0.9952\n",
      "Epoch 26/200\n",
      "678/678 [==============================] - 9s 13ms/step - loss: 0.1474 - accuracy: 0.9649 - val_loss: 0.0714 - val_accuracy: 0.9790\n",
      "Epoch 27/200\n",
      "678/678 [==============================] - 9s 14ms/step - loss: 0.1374 - accuracy: 0.9673 - val_loss: 0.0180 - val_accuracy: 0.9947\n",
      "Epoch 28/200\n",
      "678/678 [==============================] - 9s 14ms/step - loss: 0.1342 - accuracy: 0.9682 - val_loss: 0.0217 - val_accuracy: 0.9948\n",
      "Epoch 29/200\n",
      "678/678 [==============================] - 9s 14ms/step - loss: 0.1321 - accuracy: 0.9691 - val_loss: 0.0304 - val_accuracy: 0.9923\n",
      "Epoch 30/200\n",
      "678/678 [==============================] - 9s 14ms/step - loss: 0.1476 - accuracy: 0.9652 - val_loss: 0.0193 - val_accuracy: 0.9948\n",
      "Epoch 31/200\n",
      "678/678 [==============================] - 9s 14ms/step - loss: 0.1492 - accuracy: 0.9661 - val_loss: 0.0169 - val_accuracy: 0.9943\n",
      "Epoch 32/200\n",
      "678/678 [==============================] - 9s 14ms/step - loss: 0.1480 - accuracy: 0.9663 - val_loss: 0.0413 - val_accuracy: 0.9856\n",
      "Epoch 33/200\n",
      "678/678 [==============================] - 9s 14ms/step - loss: 0.1233 - accuracy: 0.9719 - val_loss: 0.0191 - val_accuracy: 0.9943\n",
      "Epoch 34/200\n",
      "678/678 [==============================] - 9s 13ms/step - loss: 0.1242 - accuracy: 0.9721 - val_loss: 0.0167 - val_accuracy: 0.9952\n",
      "Epoch 35/200\n",
      "678/678 [==============================] - 9s 14ms/step - loss: 0.1241 - accuracy: 0.9725 - val_loss: 0.0203 - val_accuracy: 0.9963\n",
      "Epoch 36/200\n",
      "678/678 [==============================] - 9s 14ms/step - loss: 0.1447 - accuracy: 0.9701 - val_loss: 0.0459 - val_accuracy: 0.9948\n",
      "Epoch 37/200\n",
      "678/678 [==============================] - 9s 14ms/step - loss: 0.1641 - accuracy: 0.9646 - val_loss: 0.0210 - val_accuracy: 0.9948\n",
      "Epoch 38/200\n",
      "678/678 [==============================] - 9s 14ms/step - loss: 0.1609 - accuracy: 0.9674 - val_loss: 0.0364 - val_accuracy: 0.9915\n",
      "Epoch 39/200\n",
      "678/678 [==============================] - 10s 14ms/step - loss: 0.1306 - accuracy: 0.9719 - val_loss: 0.0244 - val_accuracy: 0.9930\n",
      "Epoch 40/200\n",
      "678/678 [==============================] - 9s 14ms/step - loss: 0.1591 - accuracy: 0.9658 - val_loss: 0.0238 - val_accuracy: 0.9941\n",
      "Epoch 41/200\n",
      "678/678 [==============================] - 10s 14ms/step - loss: 0.1629 - accuracy: 0.9680 - val_loss: 0.0264 - val_accuracy: 0.9945\n",
      "Epoch 42/200\n",
      "678/678 [==============================] - 9s 14ms/step - loss: 0.1176 - accuracy: 0.9724 - val_loss: 0.0221 - val_accuracy: 0.9945\n",
      "Epoch 43/200\n",
      "678/678 [==============================] - 9s 13ms/step - loss: 0.1333 - accuracy: 0.9720 - val_loss: 0.0275 - val_accuracy: 0.9943\n",
      "Epoch 44/200\n",
      "678/678 [==============================] - 9s 14ms/step - loss: 0.1500 - accuracy: 0.9674 - val_loss: 0.0209 - val_accuracy: 0.9972\n",
      "Epoch 45/200\n",
      "678/678 [==============================] - 10s 14ms/step - loss: 0.1560 - accuracy: 0.9684 - val_loss: 0.0282 - val_accuracy: 0.9939\n",
      "Epoch 46/200\n",
      "678/678 [==============================] - 9s 13ms/step - loss: 0.1410 - accuracy: 0.9708 - val_loss: 0.0218 - val_accuracy: 0.9959\n",
      "Epoch 47/200\n",
      "678/678 [==============================] - 10s 14ms/step - loss: 0.1759 - accuracy: 0.9660 - val_loss: 0.0317 - val_accuracy: 0.9958\n",
      "Epoch 48/200\n",
      "678/678 [==============================] - 9s 14ms/step - loss: 0.1891 - accuracy: 0.9650 - val_loss: 0.0222 - val_accuracy: 0.9945\n",
      "Epoch 49/200\n",
      "678/678 [==============================] - 9s 13ms/step - loss: 0.1252 - accuracy: 0.9732 - val_loss: 0.0234 - val_accuracy: 0.9956\n",
      "Epoch 50/200\n",
      "678/678 [==============================] - 9s 14ms/step - loss: 0.1920 - accuracy: 0.9622 - val_loss: 0.0327 - val_accuracy: 0.9917\n",
      "Epoch 51/200\n",
      "678/678 [==============================] - 9s 14ms/step - loss: 0.1360 - accuracy: 0.9701 - val_loss: 0.0249 - val_accuracy: 0.9943\n",
      "Epoch 52/200\n",
      "678/678 [==============================] - 9s 14ms/step - loss: 0.1694 - accuracy: 0.9632 - val_loss: 0.0287 - val_accuracy: 0.9952\n",
      "Epoch 53/200\n",
      "678/678 [==============================] - 10s 14ms/step - loss: 0.1525 - accuracy: 0.9690 - val_loss: 0.0175 - val_accuracy: 0.9965\n",
      "Epoch 54/200\n",
      "678/678 [==============================] - 10s 14ms/step - loss: 0.1450 - accuracy: 0.9706 - val_loss: 0.0387 - val_accuracy: 0.9939\n",
      "Epoch 55/200\n",
      "678/678 [==============================] - 9s 14ms/step - loss: 0.1874 - accuracy: 0.9644 - val_loss: 0.0168 - val_accuracy: 0.9948\n",
      "Epoch 56/200\n",
      "678/678 [==============================] - 10s 14ms/step - loss: 0.1611 - accuracy: 0.9701 - val_loss: 0.0147 - val_accuracy: 0.9958\n",
      "Epoch 57/200\n",
      "678/678 [==============================] - 9s 14ms/step - loss: 0.1422 - accuracy: 0.9695 - val_loss: 0.0425 - val_accuracy: 0.9924\n",
      "Epoch 58/200\n",
      "678/678 [==============================] - 10s 15ms/step - loss: 0.1666 - accuracy: 0.9644 - val_loss: 0.0200 - val_accuracy: 0.9935\n",
      "Epoch 59/200\n",
      "678/678 [==============================] - 9s 13ms/step - loss: 0.1912 - accuracy: 0.9630 - val_loss: 0.0317 - val_accuracy: 0.9913\n",
      "Epoch 60/200\n",
      "678/678 [==============================] - 8s 12ms/step - loss: 0.1747 - accuracy: 0.9653 - val_loss: 0.0239 - val_accuracy: 0.9947\n",
      "Epoch 61/200\n",
      "678/678 [==============================] - 8s 12ms/step - loss: 0.1574 - accuracy: 0.9697 - val_loss: 0.0349 - val_accuracy: 0.9923\n",
      "Epoch 62/200\n",
      "678/678 [==============================] - 8s 12ms/step - loss: 0.1683 - accuracy: 0.9661 - val_loss: 0.0269 - val_accuracy: 0.9932\n",
      "Epoch 63/200\n",
      "678/678 [==============================] - 8s 12ms/step - loss: 0.1455 - accuracy: 0.9705 - val_loss: 0.0368 - val_accuracy: 0.9904\n",
      "Epoch 64/200\n",
      "678/678 [==============================] - 8s 12ms/step - loss: 0.1653 - accuracy: 0.9656 - val_loss: 0.0333 - val_accuracy: 0.9937\n",
      "Epoch 65/200\n",
      "678/678 [==============================] - 8s 12ms/step - loss: 0.1988 - accuracy: 0.9651 - val_loss: 0.0203 - val_accuracy: 0.9934\n",
      "Epoch 66/200\n",
      "678/678 [==============================] - 8s 12ms/step - loss: 0.2248 - accuracy: 0.9611 - val_loss: 0.0293 - val_accuracy: 0.9952\n",
      "Epoch 67/200\n",
      "678/678 [==============================] - 9s 13ms/step - loss: 0.1891 - accuracy: 0.9624 - val_loss: 0.0188 - val_accuracy: 0.9959\n",
      "Epoch 68/200\n",
      "678/678 [==============================] - 9s 13ms/step - loss: 0.1291 - accuracy: 0.9735 - val_loss: 0.0191 - val_accuracy: 0.9954\n",
      "Epoch 69/200\n",
      "678/678 [==============================] - 9s 13ms/step - loss: 0.1885 - accuracy: 0.9672 - val_loss: 0.0257 - val_accuracy: 0.9937\n",
      "Epoch 70/200\n",
      "678/678 [==============================] - 8s 12ms/step - loss: 0.1562 - accuracy: 0.9704 - val_loss: 0.0183 - val_accuracy: 0.9954\n",
      "Epoch 71/200\n",
      "678/678 [==============================] - 8s 13ms/step - loss: 0.1481 - accuracy: 0.9713 - val_loss: 0.0340 - val_accuracy: 0.9945\n",
      "Epoch 72/200\n",
      "678/678 [==============================] - 9s 13ms/step - loss: 0.2001 - accuracy: 0.9609 - val_loss: 0.0319 - val_accuracy: 0.9913\n",
      "Epoch 73/200\n",
      "678/678 [==============================] - 9s 13ms/step - loss: 0.2073 - accuracy: 0.9584 - val_loss: 0.0238 - val_accuracy: 0.9934\n",
      "Epoch 74/200\n",
      "678/678 [==============================] - 8s 12ms/step - loss: 0.1546 - accuracy: 0.9661 - val_loss: 0.0289 - val_accuracy: 0.9956\n",
      "Epoch 75/200\n",
      "678/678 [==============================] - 9s 13ms/step - loss: 0.2155 - accuracy: 0.9615 - val_loss: 0.0331 - val_accuracy: 0.9945\n",
      "Epoch 76/200\n",
      "678/678 [==============================] - 9s 13ms/step - loss: 0.1887 - accuracy: 0.9636 - val_loss: 0.0251 - val_accuracy: 0.9941\n",
      "Epoch 77/200\n",
      "678/678 [==============================] - 9s 13ms/step - loss: 0.2145 - accuracy: 0.9562 - val_loss: 0.0238 - val_accuracy: 0.9935\n",
      "Epoch 78/200\n",
      "678/678 [==============================] - 9s 13ms/step - loss: 0.1826 - accuracy: 0.9644 - val_loss: 0.0313 - val_accuracy: 0.9928\n",
      "Epoch 79/200\n",
      "678/678 [==============================] - 9s 14ms/step - loss: 0.1869 - accuracy: 0.9647 - val_loss: 0.0256 - val_accuracy: 0.9941\n",
      "Epoch 80/200\n",
      "678/678 [==============================] - 9s 14ms/step - loss: 0.1855 - accuracy: 0.9656 - val_loss: 0.0464 - val_accuracy: 0.9939\n",
      "Epoch 81/200\n",
      "678/678 [==============================] - 9s 14ms/step - loss: 0.2567 - accuracy: 0.9566 - val_loss: 0.0513 - val_accuracy: 0.9928\n",
      "Epoch 82/200\n",
      "678/678 [==============================] - 9s 14ms/step - loss: 0.1743 - accuracy: 0.9668 - val_loss: 0.0290 - val_accuracy: 0.9921\n",
      "Epoch 83/200\n",
      "678/678 [==============================] - 10s 14ms/step - loss: 0.2318 - accuracy: 0.9560 - val_loss: 0.0357 - val_accuracy: 0.9928\n",
      "Epoch 84/200\n",
      "678/678 [==============================] - 9s 13ms/step - loss: 0.1809 - accuracy: 0.9653 - val_loss: 0.0390 - val_accuracy: 0.9926\n",
      "Epoch 85/200\n",
      "678/678 [==============================] - 9s 14ms/step - loss: 0.2294 - accuracy: 0.9569 - val_loss: 0.0413 - val_accuracy: 0.9924\n",
      "Epoch 86/200\n",
      "678/678 [==============================] - 10s 14ms/step - loss: 0.2189 - accuracy: 0.9592 - val_loss: 0.0452 - val_accuracy: 0.9899\n",
      "Epoch 87/200\n",
      "678/678 [==============================] - 9s 14ms/step - loss: 0.1971 - accuracy: 0.9601 - val_loss: 0.0367 - val_accuracy: 0.9882\n",
      "Epoch 88/200\n",
      "678/678 [==============================] - 14s 20ms/step - loss: 0.2294 - accuracy: 0.9609 - val_loss: 0.0403 - val_accuracy: 0.9875\n",
      "Epoch 89/200\n",
      "678/678 [==============================] - 11s 17ms/step - loss: 0.2487 - accuracy: 0.9514 - val_loss: 0.0345 - val_accuracy: 0.9939\n",
      "Epoch 90/200\n",
      "678/678 [==============================] - 10s 15ms/step - loss: 0.1829 - accuracy: 0.9633 - val_loss: 0.0187 - val_accuracy: 0.9948\n",
      "Epoch 91/200\n",
      "678/678 [==============================] - 11s 17ms/step - loss: 0.2039 - accuracy: 0.9581 - val_loss: 0.1173 - val_accuracy: 0.9744\n",
      "Epoch 92/200\n",
      "678/678 [==============================] - 9s 13ms/step - loss: 0.3036 - accuracy: 0.9394 - val_loss: 0.0425 - val_accuracy: 0.9849\n",
      "Epoch 93/200\n",
      "678/678 [==============================] - 8s 11ms/step - loss: 0.1813 - accuracy: 0.9593 - val_loss: 0.0396 - val_accuracy: 0.9871\n",
      "Epoch 94/200\n",
      "678/678 [==============================] - 8s 12ms/step - loss: 0.1733 - accuracy: 0.9621 - val_loss: 0.0519 - val_accuracy: 0.9906\n",
      "Epoch 95/200\n",
      "678/678 [==============================] - 8s 12ms/step - loss: 0.3527 - accuracy: 0.9318 - val_loss: 0.0699 - val_accuracy: 0.9832\n",
      "Epoch 96/200\n",
      "678/678 [==============================] - 8s 12ms/step - loss: 0.3177 - accuracy: 0.9423 - val_loss: 0.0345 - val_accuracy: 0.9880\n",
      "Epoch 97/200\n",
      "678/678 [==============================] - 9s 13ms/step - loss: 0.2250 - accuracy: 0.9499 - val_loss: 0.0254 - val_accuracy: 0.9917\n",
      "Epoch 98/200\n",
      "678/678 [==============================] - 9s 13ms/step - loss: 0.2272 - accuracy: 0.9552 - val_loss: 0.0386 - val_accuracy: 0.9858\n",
      "Epoch 99/200\n",
      "678/678 [==============================] - 7s 11ms/step - loss: 0.2838 - accuracy: 0.9515 - val_loss: 0.0284 - val_accuracy: 0.9917\n",
      "Epoch 100/200\n",
      "678/678 [==============================] - 7s 11ms/step - loss: 0.3352 - accuracy: 0.9402 - val_loss: 0.0605 - val_accuracy: 0.9864\n",
      "Epoch 101/200\n",
      "678/678 [==============================] - 7s 10ms/step - loss: 0.2793 - accuracy: 0.9490 - val_loss: 0.0393 - val_accuracy: 0.9902\n",
      "Epoch 102/200\n",
      "678/678 [==============================] - 9s 14ms/step - loss: 0.2063 - accuracy: 0.9614 - val_loss: 0.0273 - val_accuracy: 0.9904\n",
      "Epoch 103/200\n",
      "678/678 [==============================] - 9s 13ms/step - loss: 0.3306 - accuracy: 0.9366 - val_loss: 0.0487 - val_accuracy: 0.9864\n",
      "Epoch 104/200\n",
      "678/678 [==============================] - 10s 15ms/step - loss: 0.3317 - accuracy: 0.9387 - val_loss: 0.0435 - val_accuracy: 0.9876\n",
      "Epoch 105/200\n",
      "678/678 [==============================] - 7s 10ms/step - loss: 0.2532 - accuracy: 0.9549 - val_loss: 0.0894 - val_accuracy: 0.9819\n",
      "Epoch 106/200\n",
      "678/678 [==============================] - 7s 10ms/step - loss: 0.2445 - accuracy: 0.9541 - val_loss: 0.0658 - val_accuracy: 0.9880\n",
      "Epoch 107/200\n",
      "678/678 [==============================] - 8s 11ms/step - loss: 0.2898 - accuracy: 0.9452 - val_loss: 0.0461 - val_accuracy: 0.9845\n",
      "Epoch 108/200\n",
      "678/678 [==============================] - 7s 10ms/step - loss: 0.2705 - accuracy: 0.9489 - val_loss: 0.0811 - val_accuracy: 0.9852\n",
      "Epoch 109/200\n",
      "678/678 [==============================] - 8s 11ms/step - loss: 0.2446 - accuracy: 0.9552 - val_loss: 0.2224 - val_accuracy: 0.9803\n",
      "Epoch 110/200\n",
      "678/678 [==============================] - 8s 11ms/step - loss: 0.2770 - accuracy: 0.9522 - val_loss: 0.0840 - val_accuracy: 0.9862\n",
      "Epoch 111/200\n",
      "678/678 [==============================] - 8s 12ms/step - loss: 0.4310 - accuracy: 0.9256 - val_loss: 0.0319 - val_accuracy: 0.9908\n",
      "Epoch 112/200\n",
      "678/678 [==============================] - 8s 12ms/step - loss: 0.2991 - accuracy: 0.9438 - val_loss: 0.0488 - val_accuracy: 0.9865\n",
      "Epoch 113/200\n",
      "678/678 [==============================] - 7s 10ms/step - loss: 0.2944 - accuracy: 0.9456 - val_loss: 0.0408 - val_accuracy: 0.9862\n",
      "Epoch 114/200\n",
      "678/678 [==============================] - 7s 10ms/step - loss: 0.3209 - accuracy: 0.9503 - val_loss: 0.0295 - val_accuracy: 0.9913\n",
      "Epoch 115/200\n",
      "678/678 [==============================] - 7s 10ms/step - loss: 0.3180 - accuracy: 0.9442 - val_loss: 0.0397 - val_accuracy: 0.9878\n",
      "Epoch 116/200\n",
      "678/678 [==============================] - 7s 11ms/step - loss: 0.3498 - accuracy: 0.9280 - val_loss: 0.0482 - val_accuracy: 0.9843\n",
      "Epoch 117/200\n",
      "678/678 [==============================] - 8s 12ms/step - loss: 0.3039 - accuracy: 0.9437 - val_loss: 0.0680 - val_accuracy: 0.9828\n",
      "Epoch 118/200\n",
      "678/678 [==============================] - 8s 12ms/step - loss: 0.2751 - accuracy: 0.9421 - val_loss: 0.0467 - val_accuracy: 0.9891\n",
      "Epoch 119/200\n",
      "678/678 [==============================] - 7s 11ms/step - loss: 0.4360 - accuracy: 0.9199 - val_loss: 0.0423 - val_accuracy: 0.9865\n",
      "Epoch 120/200\n",
      "678/678 [==============================] - 7s 11ms/step - loss: 0.2452 - accuracy: 0.9494 - val_loss: 0.0685 - val_accuracy: 0.9864\n",
      "Epoch 121/200\n",
      "678/678 [==============================] - 7s 11ms/step - loss: 0.4597 - accuracy: 0.9218 - val_loss: 0.1107 - val_accuracy: 0.9773\n",
      "Epoch 122/200\n",
      "678/678 [==============================] - 9s 13ms/step - loss: 0.3894 - accuracy: 0.9235 - val_loss: 0.0641 - val_accuracy: 0.9843\n",
      "Epoch 123/200\n",
      "678/678 [==============================] - 7s 10ms/step - loss: 0.2844 - accuracy: 0.9490 - val_loss: 0.1328 - val_accuracy: 0.9845\n",
      "Epoch 124/200\n",
      "678/678 [==============================] - 7s 11ms/step - loss: 0.3061 - accuracy: 0.9461 - val_loss: 0.1135 - val_accuracy: 0.9677\n",
      "Epoch 125/200\n",
      "678/678 [==============================] - 7s 11ms/step - loss: 0.2890 - accuracy: 0.9436 - val_loss: 0.0488 - val_accuracy: 0.9884\n",
      "Epoch 126/200\n",
      "678/678 [==============================] - 7s 11ms/step - loss: 0.3629 - accuracy: 0.9305 - val_loss: 0.1103 - val_accuracy: 0.9749\n",
      "Epoch 127/200\n",
      "678/678 [==============================] - 7s 10ms/step - loss: 0.3682 - accuracy: 0.9276 - val_loss: 0.0741 - val_accuracy: 0.9823\n",
      "Epoch 128/200\n",
      "678/678 [==============================] - 6s 9ms/step - loss: 0.4438 - accuracy: 0.9342 - val_loss: 0.0518 - val_accuracy: 0.9851\n",
      "Epoch 129/200\n",
      "678/678 [==============================] - 7s 10ms/step - loss: 0.3646 - accuracy: 0.9304 - val_loss: 0.0592 - val_accuracy: 0.9805\n",
      "Epoch 130/200\n",
      "678/678 [==============================] - 6s 9ms/step - loss: 0.3273 - accuracy: 0.9361 - val_loss: 0.0538 - val_accuracy: 0.9821\n",
      "Epoch 131/200\n",
      "678/678 [==============================] - 6s 9ms/step - loss: 0.3238 - accuracy: 0.9389 - val_loss: 0.0962 - val_accuracy: 0.9725\n",
      "Epoch 132/200\n",
      "678/678 [==============================] - 6s 9ms/step - loss: 0.5170 - accuracy: 0.8943 - val_loss: 0.0879 - val_accuracy: 0.9775\n",
      "Epoch 133/200\n",
      "678/678 [==============================] - 6s 9ms/step - loss: 0.3564 - accuracy: 0.9346 - val_loss: 0.0508 - val_accuracy: 0.9840\n",
      "Epoch 134/200\n",
      "678/678 [==============================] - 6s 9ms/step - loss: 0.4101 - accuracy: 0.9193 - val_loss: 0.1049 - val_accuracy: 0.9731\n",
      "Epoch 135/200\n",
      "678/678 [==============================] - 6s 9ms/step - loss: 0.4533 - accuracy: 0.9069 - val_loss: 0.0996 - val_accuracy: 0.9840\n",
      "Epoch 136/200\n",
      "678/678 [==============================] - 6s 9ms/step - loss: 0.5881 - accuracy: 0.8865 - val_loss: 0.0925 - val_accuracy: 0.9801\n",
      "Epoch 137/200\n",
      "678/678 [==============================] - 6s 9ms/step - loss: 0.5404 - accuracy: 0.9071 - val_loss: 0.1469 - val_accuracy: 0.9714\n",
      "Epoch 138/200\n",
      "678/678 [==============================] - 6s 9ms/step - loss: 0.4001 - accuracy: 0.9167 - val_loss: 0.0774 - val_accuracy: 0.9834\n",
      "Epoch 139/200\n",
      "678/678 [==============================] - 6s 9ms/step - loss: 0.3172 - accuracy: 0.9437 - val_loss: 0.1020 - val_accuracy: 0.9816\n",
      "Epoch 140/200\n",
      "678/678 [==============================] - 8s 12ms/step - loss: 0.3439 - accuracy: 0.9292 - val_loss: 0.2873 - val_accuracy: 0.9764\n",
      "Epoch 141/200\n",
      "678/678 [==============================] - 7s 11ms/step - loss: 0.4324 - accuracy: 0.9116 - val_loss: 0.1094 - val_accuracy: 0.9792\n",
      "Epoch 142/200\n",
      "678/678 [==============================] - 7s 10ms/step - loss: 0.3343 - accuracy: 0.9345 - val_loss: 0.0694 - val_accuracy: 0.9790\n",
      "Epoch 143/200\n",
      "678/678 [==============================] - 7s 10ms/step - loss: 0.4058 - accuracy: 0.9142 - val_loss: 0.1833 - val_accuracy: 0.9723\n",
      "Epoch 144/200\n",
      "678/678 [==============================] - 7s 10ms/step - loss: 0.6684 - accuracy: 0.8773 - val_loss: 0.0905 - val_accuracy: 0.9758\n",
      "Epoch 145/200\n",
      "678/678 [==============================] - 7s 10ms/step - loss: 0.6356 - accuracy: 0.8609 - val_loss: 0.0750 - val_accuracy: 0.9805\n",
      "Epoch 146/200\n",
      "678/678 [==============================] - 7s 10ms/step - loss: 0.3936 - accuracy: 0.9174 - val_loss: 0.3369 - val_accuracy: 0.9366\n",
      "Epoch 147/200\n",
      "678/678 [==============================] - 7s 11ms/step - loss: 0.6397 - accuracy: 0.8716 - val_loss: 0.1401 - val_accuracy: 0.9583\n",
      "Epoch 148/200\n",
      "678/678 [==============================] - 7s 10ms/step - loss: 0.5797 - accuracy: 0.8764 - val_loss: 0.0805 - val_accuracy: 0.9779\n",
      "Epoch 149/200\n",
      "678/678 [==============================] - 7s 11ms/step - loss: 0.5424 - accuracy: 0.9101 - val_loss: 0.0949 - val_accuracy: 0.9712\n",
      "Epoch 150/200\n",
      "678/678 [==============================] - 7s 10ms/step - loss: 0.8629 - accuracy: 0.8178 - val_loss: 0.1340 - val_accuracy: 0.9664\n",
      "Epoch 151/200\n",
      "678/678 [==============================] - 7s 10ms/step - loss: 0.4394 - accuracy: 0.9054 - val_loss: 0.0665 - val_accuracy: 0.9845\n",
      "Epoch 152/200\n",
      "678/678 [==============================] - 7s 10ms/step - loss: 0.3957 - accuracy: 0.9201 - val_loss: 0.0767 - val_accuracy: 0.9784\n",
      "Epoch 153/200\n",
      "678/678 [==============================] - 7s 10ms/step - loss: 0.5475 - accuracy: 0.8740 - val_loss: 0.1282 - val_accuracy: 0.9768\n",
      "Epoch 154/200\n",
      "678/678 [==============================] - 7s 10ms/step - loss: 0.4768 - accuracy: 0.8991 - val_loss: 0.1092 - val_accuracy: 0.9710\n",
      "Epoch 155/200\n",
      "678/678 [==============================] - 7s 10ms/step - loss: 0.5177 - accuracy: 0.8873 - val_loss: 0.1411 - val_accuracy: 0.9768\n",
      "Epoch 156/200\n",
      "678/678 [==============================] - 7s 10ms/step - loss: 0.6847 - accuracy: 0.8661 - val_loss: 0.1285 - val_accuracy: 0.9644\n",
      "Epoch 157/200\n",
      "678/678 [==============================] - 7s 10ms/step - loss: 1.1087 - accuracy: 0.7715 - val_loss: 0.1700 - val_accuracy: 0.9661\n",
      "Epoch 158/200\n",
      "678/678 [==============================] - 7s 10ms/step - loss: 0.5145 - accuracy: 0.8838 - val_loss: 0.1249 - val_accuracy: 0.9692\n",
      "Epoch 159/200\n",
      "678/678 [==============================] - 7s 10ms/step - loss: 0.4113 - accuracy: 0.9016 - val_loss: 0.0950 - val_accuracy: 0.9725\n",
      "Epoch 160/200\n",
      "678/678 [==============================] - 7s 10ms/step - loss: 0.8374 - accuracy: 0.8188 - val_loss: 0.1732 - val_accuracy: 0.9495\n",
      "Epoch 161/200\n",
      "678/678 [==============================] - 7s 10ms/step - loss: 0.7916 - accuracy: 0.8274 - val_loss: 0.2159 - val_accuracy: 0.9579\n",
      "Epoch 162/200\n",
      "678/678 [==============================] - 7s 10ms/step - loss: 0.6311 - accuracy: 0.8693 - val_loss: 0.1194 - val_accuracy: 0.9722\n",
      "Epoch 163/200\n",
      "678/678 [==============================] - 7s 10ms/step - loss: 0.8023 - accuracy: 0.8374 - val_loss: 0.1768 - val_accuracy: 0.9635\n",
      "Epoch 164/200\n",
      "678/678 [==============================] - 7s 10ms/step - loss: 1.0472 - accuracy: 0.7863 - val_loss: 0.4467 - val_accuracy: 0.9011\n",
      "Epoch 165/200\n",
      "678/678 [==============================] - 7s 10ms/step - loss: 0.6472 - accuracy: 0.8556 - val_loss: 0.1932 - val_accuracy: 0.9522\n",
      "Epoch 166/200\n",
      "678/678 [==============================] - 7s 10ms/step - loss: 0.9467 - accuracy: 0.8268 - val_loss: 0.2775 - val_accuracy: 0.9165\n",
      "Epoch 167/200\n",
      "678/678 [==============================] - 7s 10ms/step - loss: 0.6243 - accuracy: 0.8630 - val_loss: 0.1519 - val_accuracy: 0.9570\n",
      "Epoch 168/200\n",
      "678/678 [==============================] - 7s 10ms/step - loss: 0.6748 - accuracy: 0.8649 - val_loss: 0.2190 - val_accuracy: 0.9318\n",
      "Epoch 169/200\n",
      "678/678 [==============================] - 7s 10ms/step - loss: 0.6464 - accuracy: 0.8467 - val_loss: 0.1840 - val_accuracy: 0.9504\n",
      "Epoch 170/200\n",
      "678/678 [==============================] - 8s 12ms/step - loss: 0.6913 - accuracy: 0.8474 - val_loss: 0.1957 - val_accuracy: 0.9397\n",
      "Epoch 171/200\n",
      "678/678 [==============================] - 7s 10ms/step - loss: 0.6441 - accuracy: 0.8745 - val_loss: 0.2166 - val_accuracy: 0.9343\n",
      "Epoch 172/200\n",
      "678/678 [==============================] - 7s 11ms/step - loss: 0.5733 - accuracy: 0.8698 - val_loss: 0.1749 - val_accuracy: 0.9526\n",
      "Epoch 173/200\n",
      "678/678 [==============================] - 7s 11ms/step - loss: 0.9592 - accuracy: 0.8200 - val_loss: 0.6859 - val_accuracy: 0.7918\n",
      "Epoch 174/200\n",
      "678/678 [==============================] - 7s 10ms/step - loss: 1.0334 - accuracy: 0.7521 - val_loss: 0.6425 - val_accuracy: 0.8287\n",
      "Epoch 175/200\n",
      "678/678 [==============================] - 7s 10ms/step - loss: 1.4359 - accuracy: 0.6393 - val_loss: 0.4435 - val_accuracy: 0.8842\n",
      "Epoch 176/200\n",
      "678/678 [==============================] - 7s 10ms/step - loss: 1.0453 - accuracy: 0.8142 - val_loss: 0.4188 - val_accuracy: 0.8818\n",
      "Epoch 177/200\n",
      "678/678 [==============================] - 7s 11ms/step - loss: 1.0280 - accuracy: 0.7852 - val_loss: 0.2065 - val_accuracy: 0.9496\n",
      "Epoch 178/200\n",
      "678/678 [==============================] - 7s 11ms/step - loss: 0.7349 - accuracy: 0.8298 - val_loss: 0.2095 - val_accuracy: 0.9390\n",
      "Epoch 179/200\n",
      "678/678 [==============================] - 8s 11ms/step - loss: 0.9742 - accuracy: 0.7833 - val_loss: 0.3109 - val_accuracy: 0.9498\n",
      "Epoch 180/200\n",
      "678/678 [==============================] - 7s 11ms/step - loss: 1.0659 - accuracy: 0.7742 - val_loss: 0.6072 - val_accuracy: 0.8399\n",
      "Epoch 181/200\n",
      "678/678 [==============================] - 7s 11ms/step - loss: 0.8575 - accuracy: 0.8029 - val_loss: 0.2381 - val_accuracy: 0.9340\n",
      "Epoch 182/200\n",
      "678/678 [==============================] - 7s 11ms/step - loss: 0.6831 - accuracy: 0.8511 - val_loss: 0.2764 - val_accuracy: 0.9107\n",
      "Epoch 183/200\n",
      "678/678 [==============================] - 7s 11ms/step - loss: 0.6066 - accuracy: 0.8621 - val_loss: 0.2566 - val_accuracy: 0.9426\n",
      "Epoch 184/200\n",
      "678/678 [==============================] - 7s 11ms/step - loss: 1.0626 - accuracy: 0.7775 - val_loss: 1.1680 - val_accuracy: 0.6485\n",
      "Epoch 185/200\n",
      "678/678 [==============================] - 7s 11ms/step - loss: 1.2983 - accuracy: 0.7052 - val_loss: 0.4385 - val_accuracy: 0.8873\n",
      "Epoch 186/200\n",
      "678/678 [==============================] - 7s 11ms/step - loss: 1.4978 - accuracy: 0.6548 - val_loss: 0.3797 - val_accuracy: 0.8901\n",
      "Epoch 187/200\n",
      "678/678 [==============================] - 7s 10ms/step - loss: 1.1987 - accuracy: 0.7350 - val_loss: 0.3520 - val_accuracy: 0.9026\n",
      "Epoch 188/200\n",
      "678/678 [==============================] - 7s 10ms/step - loss: 1.2000 - accuracy: 0.7148 - val_loss: 0.5489 - val_accuracy: 0.8115\n",
      "Epoch 189/200\n",
      "678/678 [==============================] - 7s 11ms/step - loss: 1.7709 - accuracy: 0.6547 - val_loss: 1.3813 - val_accuracy: 0.5673\n",
      "Epoch 190/200\n",
      "678/678 [==============================] - 7s 10ms/step - loss: 1.5337 - accuracy: 0.5453 - val_loss: 0.3820 - val_accuracy: 0.8735\n",
      "Epoch 191/200\n",
      "678/678 [==============================] - 7s 11ms/step - loss: 1.0048 - accuracy: 0.7551 - val_loss: 1.3280 - val_accuracy: 0.5384\n",
      "Epoch 192/200\n",
      "678/678 [==============================] - 7s 10ms/step - loss: 1.0880 - accuracy: 0.6926 - val_loss: 0.3483 - val_accuracy: 0.8827\n",
      "Epoch 193/200\n",
      "678/678 [==============================] - 7s 10ms/step - loss: 0.9915 - accuracy: 0.7545 - val_loss: 0.9658 - val_accuracy: 0.6641\n",
      "Epoch 194/200\n",
      "678/678 [==============================] - 7s 11ms/step - loss: 1.4349 - accuracy: 0.5873 - val_loss: 0.5573 - val_accuracy: 0.8209\n",
      "Epoch 195/200\n",
      "678/678 [==============================] - 7s 10ms/step - loss: 1.1554 - accuracy: 0.7531 - val_loss: 0.4305 - val_accuracy: 0.8892\n",
      "Epoch 196/200\n",
      "678/678 [==============================] - 7s 10ms/step - loss: 0.9444 - accuracy: 0.7882 - val_loss: 0.2845 - val_accuracy: 0.9128\n",
      "Epoch 197/200\n",
      "678/678 [==============================] - 7s 10ms/step - loss: 0.8960 - accuracy: 0.8022 - val_loss: 0.4495 - val_accuracy: 0.8726\n",
      "Epoch 198/200\n",
      "678/678 [==============================] - 7s 10ms/step - loss: 1.0695 - accuracy: 0.7584 - val_loss: 0.3414 - val_accuracy: 0.9120\n",
      "Epoch 199/200\n",
      "678/678 [==============================] - 7s 10ms/step - loss: 1.1100 - accuracy: 0.7414 - val_loss: 0.4110 - val_accuracy: 0.8786\n",
      "Epoch 200/200\n",
      "678/678 [==============================] - 7s 10ms/step - loss: 1.1778 - accuracy: 0.7199 - val_loss: 1.3712 - val_accuracy: 0.5795\n"
     ]
    }
   ],
   "source": [
    "model1.compile(loss='categorical_crossentropy', optimizer='adam', metrics=['accuracy'])\n",
    "\n",
    "history1 = model1.fit(X_train, y_train, batch_size=32, epochs=epochs, validation_data=(X_test, y_test))"
   ]
  },
  {
   "cell_type": "markdown",
   "metadata": {},
   "source": [
    "### ResNet50 Model"
   ]
  },
  {
   "cell_type": "code",
   "execution_count": 25,
   "metadata": {},
   "outputs": [],
   "source": [
    "X_train_reshaped32 = np.squeeze(X_train, axis=1)\n",
    "X_train_resized = np.expand_dims(X_train_reshaped32, axis = -1)\n",
    "X_train_resized = np.repeat(X_train_resized, 3, axis=-1)\n",
    "input_shape = X_train_resized.shape[1:]\n",
    "\n",
    "X_test_reshaped32 = np.squeeze(X_test, axis=1)\n",
    "X_test_resized = np.expand_dims(X_test_reshaped32, axis = -1)\n",
    "X_test_resized = np.repeat(X_test_resized, 3, axis=-1)\n",
    "\n",
    "base_model = ResNet50(weights='imagenet', include_top=False, input_shape=input_shape)\n",
    "\n",
    "#Freezing all the layers\n",
    "for layer in base_model.layers:\n",
    "    layer.trainable = False\n",
    "\n",
    "x = base_model.output\n",
    "x = GlobalAveragePooling2D()(x)\n",
    "x = Dense(1024, activation='relu')(x)\n",
    "predictions = Dense(21, activation='softmax')(x)\n",
    "model2 = Model(inputs=base_model.input, outputs=predictions)"
   ]
  },
  {
   "cell_type": "code",
   "execution_count": 26,
   "metadata": {},
   "outputs": [
    {
     "name": "stdout",
     "output_type": "stream",
     "text": [
      "Epoch 1/5\n",
      "809/809 [==============================] - 170s 204ms/step - loss: 0.4581 - accuracy: 0.8683 - val_loss: 0.1886 - val_accuracy: 0.9390\n",
      "Epoch 2/5\n",
      "809/809 [==============================] - 196s 243ms/step - loss: 0.1448 - accuracy: 0.9529 - val_loss: 0.1597 - val_accuracy: 0.9493\n",
      "Epoch 3/5\n",
      "809/809 [==============================] - 220s 272ms/step - loss: 0.1109 - accuracy: 0.9638 - val_loss: 0.2950 - val_accuracy: 0.9192\n",
      "Epoch 4/5\n",
      "809/809 [==============================] - 242s 300ms/step - loss: 0.0952 - accuracy: 0.9723 - val_loss: 0.2214 - val_accuracy: 0.9351\n",
      "Epoch 5/5\n",
      "809/809 [==============================] - 263s 326ms/step - loss: 0.0751 - accuracy: 0.9763 - val_loss: 0.0944 - val_accuracy: 0.9705\n",
      "Epoch 1/5\n",
      "809/809 [==============================] - 339s 408ms/step - loss: 0.1516 - accuracy: 0.9630 - val_loss: 0.1117 - val_accuracy: 0.9686\n",
      "Epoch 2/5\n",
      "809/809 [==============================] - 292s 361ms/step - loss: 0.0731 - accuracy: 0.9814 - val_loss: 0.0609 - val_accuracy: 0.9850\n",
      "Epoch 3/5\n",
      "809/809 [==============================] - 321s 397ms/step - loss: 0.0579 - accuracy: 0.9833 - val_loss: 0.0768 - val_accuracy: 0.9774\n",
      "Epoch 4/5\n",
      "809/809 [==============================] - 343s 425ms/step - loss: 0.0460 - accuracy: 0.9873 - val_loss: 0.1071 - val_accuracy: 0.9723\n",
      "Epoch 5/5\n",
      "809/809 [==============================] - 211s 261ms/step - loss: 0.0571 - accuracy: 0.9854 - val_loss: 0.0363 - val_accuracy: 0.9906\n"
     ]
    }
   ],
   "source": [
    "\n",
    "model2.compile(loss='categorical_crossentropy', optimizer='adam', metrics=['accuracy'])\n",
    "\n",
    "history2 = model2.fit(X_train_resized, y_train,\n",
    "                     epochs=5,\n",
    "                     batch_size=32,\n",
    "                     validation_data=(X_test_resized, y_test))\n",
    "\n",
    "print(\"Traning after Unfreezing\")\n",
    "#Unfreezing for fine tuning\n",
    "for layer in model2.layers[-10:]:\n",
    "    layer.trainable = True\n",
    "\n",
    "model2.compile(loss='categorical_crossentropy', optimizer='adam', metrics=['accuracy'])\n",
    "\n",
    "history2 = model2.fit(X_train_resized, y_train,\n",
    "                     epochs=5,\n",
    "                     batch_size=32,\n",
    "                     validation_data=(X_test_resized, y_test))"
   ]
  },
  {
   "cell_type": "markdown",
   "metadata": {},
   "source": [
    "### Customized VGG16 Model"
   ]
  },
  {
   "cell_type": "code",
   "execution_count": 27,
   "metadata": {},
   "outputs": [],
   "source": [
    "base_model = VGG16(weights='imagenet', include_top=False, input_shape=input_shape)\n",
    "\n",
    "for layer in base_model.layers:\n",
    "    layer.trainable = False\n",
    "\n",
    "x = base_model.output\n",
    "x = Flatten()(x)\n",
    "x = Dense(512, activation='relu')(x)\n",
    "x = Dropout(0.5)(x)\n",
    "predictions = Dense(21, activation='softmax')(x)\n",
    "model3 = Model(inputs=base_model.input, outputs=predictions)\n"
   ]
  },
  {
   "cell_type": "code",
   "execution_count": 28,
   "metadata": {},
   "outputs": [
    {
     "name": "stdout",
     "output_type": "stream",
     "text": [
      "Epoch 1/5\n",
      "809/809 [==============================] - 227s 275ms/step - loss: 1.7706 - accuracy: 0.7826 - val_loss: 0.2255 - val_accuracy: 0.9329\n",
      "Epoch 2/5\n",
      "809/809 [==============================] - 189s 233ms/step - loss: 0.3283 - accuracy: 0.8987 - val_loss: 0.1550 - val_accuracy: 0.9425\n",
      "Epoch 3/5\n",
      "809/809 [==============================] - 167s 207ms/step - loss: 0.2870 - accuracy: 0.9103 - val_loss: 0.1463 - val_accuracy: 0.9479\n",
      "Epoch 4/5\n",
      "809/809 [==============================] - 181s 224ms/step - loss: 0.2934 - accuracy: 0.9133 - val_loss: 0.1662 - val_accuracy: 0.9424\n",
      "Epoch 5/5\n",
      "809/809 [==============================] - 211s 260ms/step - loss: 0.2541 - accuracy: 0.9214 - val_loss: 0.1205 - val_accuracy: 0.9604\n",
      "Epoch 1/5\n",
      "809/809 [==============================] - 216s 264ms/step - loss: 0.3108 - accuracy: 0.9198 - val_loss: 0.1295 - val_accuracy: 0.9594\n",
      "Epoch 2/5\n",
      "809/809 [==============================] - 212s 262ms/step - loss: 0.2708 - accuracy: 0.9291 - val_loss: 0.0838 - val_accuracy: 0.9710\n",
      "Epoch 3/5\n",
      "809/809 [==============================] - 233s 288ms/step - loss: 0.2439 - accuracy: 0.9347 - val_loss: 0.0842 - val_accuracy: 0.9713\n",
      "Epoch 4/5\n",
      "809/809 [==============================] - 266s 328ms/step - loss: 0.2267 - accuracy: 0.9364 - val_loss: 0.0967 - val_accuracy: 0.9677\n",
      "Epoch 5/5\n",
      "809/809 [==============================] - 269s 333ms/step - loss: 0.2152 - accuracy: 0.9409 - val_loss: 0.0704 - val_accuracy: 0.9764\n"
     ]
    }
   ],
   "source": [
    "model3.compile(loss='categorical_crossentropy', optimizer='adam', metrics=['accuracy'])\n",
    "\n",
    "history3 = model3.fit(X_train_resized, y_train,\n",
    "                     epochs=5,\n",
    "                     batch_size=32,\n",
    "                     validation_data=(X_test_resized, y_test))\n",
    "\n",
    "#Unfreezing for fine tuning\n",
    "for layer in model3.layers[-4:]:\n",
    "    layer.trainable = True\n",
    "\n",
    "model3.compile(loss='categorical_crossentropy', optimizer='adam', metrics=['accuracy'])\n",
    "\n",
    "history3 = model3.fit(X_train_resized, y_train,\n",
    "                     epochs=5,\n",
    "                     batch_size=32,\n",
    "                     validation_data=(X_test_resized, y_test))"
   ]
  },
  {
   "cell_type": "markdown",
   "metadata": {},
   "source": [
    "## Metrics"
   ]
  },
  {
   "cell_type": "code",
   "execution_count": null,
   "metadata": {},
   "outputs": [],
   "source": [
    "# Simple CNN Model \n",
    "plt.figure(0, figsize=(4.0, 4.0))\n",
    "plt.plot(history1.history['accuracy'], label='Accuracy')\n",
    "plt.plot(history1.history['loss'], label='Loss')\n",
    "plt.title('Simple CNN model')\n",
    "plt.xlabel('epochs')\n",
    "plt.ylabel('accuracy & loss')\n",
    "plt.legend()\n",
    "plt.show()"
   ]
  },
  {
   "cell_type": "code",
   "execution_count": 29,
   "metadata": {},
   "outputs": [
    {
     "data": {
      "image/png": "[encoded data removed]",
      "text/plain": [
       "<Figure size 400x400 with 1 Axes>"
      ]
     },
     "metadata": {},
     "output_type": "display_data"
    }
   ],
   "source": [
    "# ResNet50 Model \n",
    "plt.figure(0, figsize=(4.0, 4.0))\n",
    "plt.plot(history2.history['accuracy'], label='Accuracy')\n",
    "plt.plot(history2.history['loss'], label='Loss')\n",
    "plt.title('Simple CNN model')\n",
    "plt.xlabel('epochs')\n",
    "plt.ylabel('accuracy')\n",
    "plt.legend()\n",
    "plt.show()"
   ]
  },
  {
   "cell_type": "code",
   "execution_count": 30,
   "metadata": {},
   "outputs": [
    {
     "data": {
      "image/png": "[encoded data removed]",
      "text/plain": [
       "<Figure size 400x400 with 1 Axes>"
      ]
     },
     "metadata": {},
     "output_type": "display_data"
    }
   ],
   "source": [
    "# Customized VGG16 Model \n",
    "plt.figure(0, figsize=(4.0, 4.0))\n",
    "plt.plot(history3.history['accuracy'], label='Accuracy')\n",
    "plt.plot(history3.history['loss'], label='Loss')\n",
    "plt.title('Simple CNN model')\n",
    "plt.xlabel('epochs')\n",
    "plt.ylabel('accuracy')\n",
    "plt.legend()\n",
    "plt.show()"
   ]
  },
  {
   "cell_type": "markdown",
   "metadata": {},
   "source": [
    "## Testing"
   ]
  },
  {
   "cell_type": "code",
   "execution_count": 52,
   "metadata": {},
   "outputs": [],
   "source": [
    "def testing(testcsv):\n",
    "    y_test = pd.read_csv(testcsv)\n",
    "    label = y_test[\"ClassId\"].values\n",
    "    imgs = y_test[\"Path\"].values\n",
    "    data=[]\n",
    "    for img in imgs:\n",
    "        image = Image.open(img)\n",
    "        image = image.resize((32,32))\n",
    "        im2arr = img_to_array(image)\n",
    "        im2arr = im2arr[:,:,0]\n",
    "        im2arr = im2arr.reshape(1,32,32)\n",
    "        data.append(np.array(im2arr))\n",
    "    X_test=np.array(data)\n",
    "    return X_test,label"
   ]
  },
  {
   "cell_type": "code",
   "execution_count": 59,
   "metadata": {},
   "outputs": [
    {
     "data": {
      "text/plain": [
       "(1004,)"
      ]
     },
     "execution_count": 59,
     "metadata": {},
     "output_type": "execute_result"
    }
   ],
   "source": [
    "X_test, label = testing('Test.csv')"
   ]
  },
  {
   "cell_type": "code",
   "execution_count": 71,
   "metadata": {},
   "outputs": [
    {
     "name": "stdout",
     "output_type": "stream",
     "text": [
      "32/32 [==============================] - 0s 2ms/step\n",
      "32/32 [==============================] - 3s 81ms/step\n",
      "32/32 [==============================] - 3s 94ms/step\n"
     ]
    }
   ],
   "source": [
    "y_test1 = model1.predict(X_test)\n",
    "\n",
    "X_test_reshaped32 = np.squeeze(X_test, axis=1)\n",
    "X_test_resized = np.expand_dims(X_test_reshaped32, axis = -1)\n",
    "X_test_resized = np.repeat(X_test_resized, 3, axis=-1)\n",
    "\n",
    "y_test2 = model2.predict(X_test_resized)\n",
    "y_test3 = model3.predict(X_test_resized)\n"
   ]
  },
  {
   "cell_type": "markdown",
   "metadata": {},
   "source": [
    "## Save the model"
   ]
  },
  {
   "cell_type": "code",
   "execution_count": 70,
   "metadata": {},
   "outputs": [
    {
     "name": "stderr",
     "output_type": "stream",
     "text": [
      "C:\\Users\\DELL\\AppData\\Roaming\\Python\\Python311\\site-packages\\keras\\src\\engine\\training.py:3103: UserWarning: You are saving your model as an HDF5 file via `model.save()`. This file format is considered legacy. We recommend using instead the native Keras format, e.g. `model.save('my_model.keras')`.\n",
      "  saving_api.save_model(\n"
     ]
    }
   ],
   "source": [
    "model1.save(\"./training/model1.h5\")\n",
    "model2.save(\"./training/model2.h5\")\n",
    "model3.save(\"./training/model3.h5\")"
   ]
  },
  {
   "cell_type": "markdown",
   "metadata": {},
   "source": [
    "## Load the Model"
   ]
  },
  {
   "cell_type": "code",
   "execution_count": 5,
   "metadata": {},
   "outputs": [
    {
     "name": "stdout",
     "output_type": "stream",
     "text": [
      "WARNING:tensorflow:From C:\\Users\\DELL\\AppData\\Roaming\\Python\\Python311\\site-packages\\keras\\src\\backend.py:1398: The name tf.executing_eagerly_outside_functions is deprecated. Please use tf.compat.v1.executing_eagerly_outside_functions instead.\n",
      "\n",
      "WARNING:tensorflow:From C:\\Users\\DELL\\AppData\\Roaming\\Python\\Python311\\site-packages\\keras\\src\\layers\\pooling\\max_pooling2d.py:161: The name tf.nn.max_pool is deprecated. Please use tf.nn.max_pool2d instead.\n",
      "\n"
     ]
    }
   ],
   "source": [
    "from keras.models import load_model\n",
    "\n",
    "model1 = load_model(\"./training/model1.h5\")\n",
    "model2 = load_model(\"./training/model2.h5\")\n",
    "model3 = load_model(\"./training/model3.h5\")\n"
   ]
  },
  {
   "cell_type": "code",
   "execution_count": 6,
   "metadata": {},
   "outputs": [],
   "source": [
    "from PIL import Image\n",
    "import numpy as np\n",
    "import matplotlib.pyplot as plt\n",
    "def final_test(img):\n",
    "    data=[]\n",
    "    image = Image.open(img)\n",
    "    image = image.resize((32,32))\n",
    "    im2arr = img_to_array(image)\n",
    "    im2arr = im2arr[:,:,0]\n",
    "    im2arr = im2arr.reshape(1,32,32)\n",
    "    data.append(np.array(im2arr))\n",
    "    X_test=np.array(data)\n",
    "    Y_pred = model1.predict(X_test)\n",
    "    classes_x=np.argmax(Y_pred,axis=1)\n",
    "    return image,classes_x"
   ]
  },
  {
   "cell_type": "code",
   "execution_count": 10,
   "metadata": {},
   "outputs": [
    {
     "name": "stdout",
     "output_type": "stream",
     "text": [
      "1/1 [==============================] - 0s 25ms/step\n",
      "Predicted traffic sign is:  Free left\n"
     ]
    },
    {
     "data": {
      "image/png": "[encoded data removed]",
      "text/plain": [
       "<Figure size 640x480 with 1 Axes>"
      ]
     },
     "metadata": {},
     "output_type": "display_data"
    },
    {
     "name": "stdout",
     "output_type": "stream",
     "text": [
      "1/1 [==============================] - 0s 25ms/step\n",
      "Predicted traffic sign is:  Free U turn\n"
     ]
    },
    {
     "data": {
      "image/png": "[encoded data removed]",
      "text/plain": [
       "<Figure size 640x480 with 1 Axes>"
      ]
     },
     "metadata": {},
     "output_type": "display_data"
    },
    {
     "name": "stdout",
     "output_type": "stream",
     "text": [
      "1/1 [==============================] - 0s 22ms/step\n",
      "Predicted traffic sign is:  General Caution\n"
     ]
    },
    {
     "data": {
      "image/png": "[encoded data removed]",
      "text/plain": [
       "<Figure size 640x480 with 1 Axes>"
      ]
     },
     "metadata": {},
     "output_type": "display_data"
    }
   ],
   "source": [
    "from pathlib import Path\n",
    "rootdir = 'D:/ML_Lab/Project/Validate'\n",
    "images = Path(rootdir).glob('*.png')\n",
    "for image in images:\n",
    "    plot,prediction = final_test(image)\n",
    "    s = [str(i) for i in prediction]\n",
    "    a = int(\"\".join(s)) \n",
    "    print(\"Predicted traffic sign is: \", classes[a])\n",
    "    plt.imshow(plot)\n",
    "    plt.show()"
   ]
  },
  {
   "cell_type": "code",
   "execution_count": null,
   "metadata": {},
   "outputs": [],
   "source": []
  }
 ],
 "metadata": {
  "kernelspec": {
   "display_name": "Python 3",
   "language": "python",
   "name": "python3"
  },
  "language_info": {
   "codemirror_mode": {
    "name": "ipython",
    "version": 3
   },
   "file_extension": ".py",
   "mimetype": "text/x-python",
   "name": "python",
   "nbconvert_exporter": "python",
   "pygments_lexer": "ipython3",
   "version": "3.11.5"
  }
 },
 "nbformat": 4,
 "nbformat_minor": 4
}
