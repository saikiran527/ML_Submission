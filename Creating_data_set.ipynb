{
 "cells": [
  {
   "cell_type": "code",
   "execution_count": 14,
   "metadata": {},
   "outputs": [],
   "source": [
    "import tensorflow as tf\n",
    "from pathlib import Path\n",
    "import os\n",
    "import cv2\n",
    "import numpy as np \n"
   ]
  },
  {
   "cell_type": "code",
   "execution_count": 15,
   "metadata": {},
   "outputs": [],
   "source": [
    "def to_grayscale_then_rgb(image):\n",
    "    image = tf.image.rgb_to_grayscale(image)\n",
    "    image = tf.image.grayscale_to_rgb(image)\n",
    "    return image"
   ]
  },
  {
   "cell_type": "code",
   "execution_count": 19,
   "metadata": {},
   "outputs": [],
   "source": [
    "def adjust_contrast_and_brightness(image):\n",
    "    hsv = cv2.cvtColor(image, cv2.COLOR_RGB2HSV).astype(np.float32)\n",
    "    alpha = 1.5\n",
    "    beta = 30\n",
    "    hsv[..., 2] = np.clip(alpha * hsv[..., 2] + beta, 0, 255)\n",
    "    adjusted = cv2.cvtColor(hsv, cv2.COLOR_HSV2RGB)\n",
    "    return adjusted"
   ]
  },
  {
   "cell_type": "code",
   "execution_count": 20,
   "metadata": {},
   "outputs": [],
   "source": [
    "data_gen = tf.keras.preprocessing.image.ImageDataGenerator(shear_range=0.2,zoom_range=0.2, horizontal_flip=False,\n",
    "    vertical_flip=False, rescale=1/255)\n",
    "data_gen1 = tf.keras.preprocessing.image.ImageDataGenerator(shear_range=0.2,zoom_range=0.2, horizontal_flip=False,\n",
    "    vertical_flip=False, rescale=1/255,\n",
    "    preprocessing_function=to_grayscale_then_rgb )\n",
    "data_gen2 = tf.keras.preprocessing.image.ImageDataGenerator(horizontal_flip=False,\n",
    "    vertical_flip=False, rescale=1/255,\n",
    "    preprocessing_function=adjust_contrast_and_brightness)"
   ]
  },
  {
   "cell_type": "code",
   "execution_count": 25,
   "metadata": {},
   "outputs": [
    {
     "name": "stdout",
     "output_type": "stream",
     "text": [
      "file0completed\n",
      "file1completed\n",
      "file2completed\n",
      "file3completed\n",
      "file4completed\n",
      "file5completed\n",
      "file6completed\n",
      "file7completed\n",
      "file8completed\n",
      "file9completed\n"
     ]
    }
   ],
   "source": [
    "rootdir = 'D:/ML_Lab/Project/Train'\n",
    "total_number = 20\n",
    "for subdir, dirs, files in os.walk(rootdir):\n",
    "      for file in dirs:\n",
    "          folder_dir = rootdir+'/'+file\n",
    "          images = Path(folder_dir).glob('*.png')\n",
    "          for image in images:\n",
    "               img = tf.keras.utils.load_img(image, grayscale=False)\n",
    "               arr = tf.keras.utils.img_to_array(img)\n",
    "               tensor_img = arr.reshape((1, ) + arr.shape)\n",
    "               for i, _ in enumerate(data_gen.flow(x=tensor_img,\n",
    "                                                   batch_size=1,\n",
    "                                                   save_to_dir=rootdir+'/'+file,\n",
    "                                                   save_prefix=file,\n",
    "                                                   save_format=\".png\")):\n",
    "                       if i > total_number:\n",
    "                            break\n",
    "               for i, _ in enumerate(data_gen1.flow(x=tensor_img,\n",
    "                                                    batch_size=1,\n",
    "                                                    save_to_dir=rootdir+'/'+file,\n",
    "                                                    save_prefix=file,\n",
    "                                                    save_format=\".png\")):\n",
    "                       if i > total_number:\n",
    "                            break\n",
    "               for i, _ in enumerate(data_gen2.flow(x=tensor_img,\n",
    "                                                    batch_size=1,\n",
    "                                                    save_to_dir=rootdir+'/'+file,\n",
    "                                                    save_prefix=file,\n",
    "                                                    save_format=\".png\")):\n",
    "                       if i > total_number:\n",
    "                            break\n",
    "          print(\"file\" + file + \"completed\")\n",
    "\n"
   ]
  },
  {
   "cell_type": "code",
   "execution_count": null,
   "metadata": {},
   "outputs": [],
   "source": []
  }
 ],
 "metadata": {
  "kernelspec": {
   "display_name": "base",
   "language": "python",
   "name": "python3"
  },
  "language_info": {
   "codemirror_mode": {
    "name": "ipython",
    "version": 3
   },
   "file_extension": ".py",
   "mimetype": "text/x-python",
   "name": "python",
   "nbconvert_exporter": "python",
   "pygments_lexer": "ipython3",
   "version": "3.11.5"
  }
 },
 "nbformat": 4,
 "nbformat_minor": 2
}
